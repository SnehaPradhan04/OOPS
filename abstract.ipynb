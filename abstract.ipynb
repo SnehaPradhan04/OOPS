{
  "nbformat": 4,
  "nbformat_minor": 0,
  "metadata": {
    "colab": {
      "provenance": [],
      "authorship_tag": "ABX9TyNonbZvKsd6YwSHQGCspLPh",
      "include_colab_link": true
    },
    "kernelspec": {
      "name": "python3",
      "display_name": "Python 3"
    },
    "language_info": {
      "name": "python"
    }
  },
  "cells": [
    {
      "cell_type": "markdown",
      "metadata": {
        "id": "view-in-github",
        "colab_type": "text"
      },
      "source": [
        "<a href=\"https://colab.research.google.com/github/SnehaPradhan04/OOPS/blob/main/abstract.ipynb\" target=\"_parent\"><img src=\"https://colab.research.google.com/assets/colab-badge.svg\" alt=\"Open In Colab\"/></a>"
      ]
    },
    {
      "cell_type": "code",
      "execution_count": null,
      "metadata": {
        "id": "h_GlCdmbbK8D"
      },
      "outputs": [],
      "source": [
        "import abc\n",
        "\n",
        "class sneha:\n",
        "\n",
        "  @abc.abstractmethod\n",
        "  def my_details(self):\n",
        "    pass\n",
        "\n",
        "  @abc.abstractmethod\n",
        "  def my_assignments(self):\n",
        "    pass\n",
        "\n",
        "  @abc.abstractmethod\n",
        "  def my_marks(self):\n",
        "    pass"
      ]
    },
    {
      "cell_type": "code",
      "source": [
        "class data_science(sneha):\n",
        "\n",
        "  def my_details(self):\n",
        "    return \"It will return the details.\"\n",
        "\n",
        "  def my_assignment(self):\n",
        "    return \"It will return my assignments details.\"\n"
      ],
      "metadata": {
        "id": "ESuOOJMudcaI"
      },
      "execution_count": null,
      "outputs": []
    },
    {
      "cell_type": "code",
      "source": [
        "class web_dev(sneha):\n",
        "\n",
        "  def my_details(self):\n",
        "    return \"This will return details of my web dev learning.\"\n",
        "\n",
        "  def my_marks(self):\n",
        "    return \"This will my marks/grades of web dev.\""
      ],
      "metadata": {
        "id": "ZOlZaBi1d8ri"
      },
      "execution_count": null,
      "outputs": []
    },
    {
      "cell_type": "code",
      "source": [
        "ds = data_science()\n",
        "ds.my_details()"
      ],
      "metadata": {
        "colab": {
          "base_uri": "https://localhost:8080/",
          "height": 36
        },
        "id": "alwD2zhWeh1d",
        "outputId": "50aceec1-dd1d-458a-ab6a-7ccc498a6c83"
      },
      "execution_count": null,
      "outputs": [
        {
          "output_type": "execute_result",
          "data": {
            "text/plain": [
              "'It will return the details.'"
            ],
            "application/vnd.google.colaboratory.intrinsic+json": {
              "type": "string"
            }
          },
          "metadata": {},
          "execution_count": 6
        }
      ]
    },
    {
      "cell_type": "code",
      "source": [
        "wd = web_dev()\n",
        "wd.my_details()"
      ],
      "metadata": {
        "colab": {
          "base_uri": "https://localhost:8080/",
          "height": 36
        },
        "id": "mWFFNTPkeoza",
        "outputId": "58447bfc-78c1-446d-e3b3-5e43a1bb0b73"
      },
      "execution_count": null,
      "outputs": [
        {
          "output_type": "execute_result",
          "data": {
            "text/plain": [
              "'This will return details of my web dev learning.'"
            ],
            "application/vnd.google.colaboratory.intrinsic+json": {
              "type": "string"
            }
          },
          "metadata": {},
          "execution_count": 7
        }
      ]
    }
  ]
}