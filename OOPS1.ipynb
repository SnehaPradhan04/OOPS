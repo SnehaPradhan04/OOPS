{
  "nbformat": 4,
  "nbformat_minor": 0,
  "metadata": {
    "colab": {
      "provenance": [],
      "authorship_tag": "ABX9TyPrY0WAsV/Z430CxfJj8966",
      "include_colab_link": true
    },
    "kernelspec": {
      "name": "python3",
      "display_name": "Python 3"
    },
    "language_info": {
      "name": "python"
    }
  },
  "cells": [
    {
      "cell_type": "markdown",
      "metadata": {
        "id": "view-in-github",
        "colab_type": "text"
      },
      "source": [
        "<a href=\"https://colab.research.google.com/github/SnehaPradhan04/OOPS/blob/main/OOPS1.ipynb\" target=\"_parent\"><img src=\"https://colab.research.google.com/assets/colab-badge.svg\" alt=\"Open In Colab\"/></a>"
      ]
    },
    {
      "cell_type": "code",
      "execution_count": 1,
      "metadata": {
        "id": "yduWYwOqH27u"
      },
      "outputs": [],
      "source": [
        "a = 1"
      ]
    },
    {
      "cell_type": "code",
      "source": [
        "print(type(a))"
      ],
      "metadata": {
        "colab": {
          "base_uri": "https://localhost:8080/"
        },
        "id": "4GFTsvODIJpJ",
        "outputId": "10c07f60-f09a-41ff-91d9-1e838b734a65"
      },
      "execution_count": 2,
      "outputs": [
        {
          "output_type": "stream",
          "name": "stdout",
          "text": [
            "<class 'int'>\n"
          ]
        }
      ]
    },
    {
      "cell_type": "code",
      "source": [
        "print(type(\"sneha\"))"
      ],
      "metadata": {
        "colab": {
          "base_uri": "https://localhost:8080/"
        },
        "id": "8YZNwGyeIOb2",
        "outputId": "7cdb3722-c5b6-4354-adf1-444517e99813"
      },
      "execution_count": 3,
      "outputs": [
        {
          "output_type": "stream",
          "name": "stdout",
          "text": [
            "<class 'str'>\n"
          ]
        }
      ]
    },
    {
      "cell_type": "code",
      "source": [
        "class test:\n",
        "  pass"
      ],
      "metadata": {
        "id": "qoPbBjAUIkWs"
      },
      "execution_count": 4,
      "outputs": []
    },
    {
      "cell_type": "code",
      "source": [
        "a = test()\n",
        "type(a)"
      ],
      "metadata": {
        "colab": {
          "base_uri": "https://localhost:8080/"
        },
        "id": "M2iaRjh2I5U-",
        "outputId": "6d8a8db0-67fd-4d5c-8b98-34076da555b1"
      },
      "execution_count": 5,
      "outputs": [
        {
          "output_type": "execute_result",
          "data": {
            "text/plain": [
              "__main__.test"
            ]
          },
          "metadata": {},
          "execution_count": 5
        }
      ]
    },
    {
      "cell_type": "code",
      "source": [
        "print(type(a))"
      ],
      "metadata": {
        "colab": {
          "base_uri": "https://localhost:8080/"
        },
        "id": "HHzJAkigJC-8",
        "outputId": "48d67a13-2a6d-45a0-b106-0419e6b730c9"
      },
      "execution_count": 6,
      "outputs": [
        {
          "output_type": "stream",
          "name": "stdout",
          "text": [
            "<class '__main__.test'>\n"
          ]
        }
      ]
    },
    {
      "cell_type": "code",
      "source": [
        "class sneha:\n",
        "  def introduce_msg(self):\n",
        "    print(\"My name is Sneha Pradhan\")"
      ],
      "metadata": {
        "id": "M44-Y5HhJNDn"
      },
      "execution_count": 9,
      "outputs": []
    },
    {
      "cell_type": "code",
      "source": [
        "recruiter = sneha"
      ],
      "metadata": {
        "id": "qbrYcdz-JgwF"
      },
      "execution_count": 11,
      "outputs": []
    },
    {
      "cell_type": "code",
      "source": [
        "recruiter.introduce_msg()"
      ],
      "metadata": {
        "colab": {
          "base_uri": "https://localhost:8080/"
        },
        "id": "Gdp5JnA5KGUx",
        "outputId": "57a8df00-ffc3-4ef9-d211-53d5f3d9d30d"
      },
      "execution_count": 12,
      "outputs": [
        {
          "output_type": "stream",
          "name": "stdout",
          "text": [
            "My name is Sneha Pradhan\n"
          ]
        }
      ]
    },
    {
      "cell_type": "code",
      "source": [
        "employer = sneha\n",
        "employer.introduce_msg()"
      ],
      "metadata": {
        "colab": {
          "base_uri": "https://localhost:8080/"
        },
        "id": "tW3VB2PTKMZe",
        "outputId": "edb78b81-976a-4958-d583-7e974561c432"
      },
      "execution_count": 13,
      "outputs": [
        {
          "output_type": "stream",
          "name": "stdout",
          "text": [
            "My name is Sneha Pradhan\n"
          ]
        }
      ]
    },
    {
      "cell_type": "code",
      "source": [
        "a=1\n",
        "b=2"
      ],
      "metadata": {
        "id": "yYEnOZw-KiRc"
      },
      "execution_count": 14,
      "outputs": []
    },
    {
      "cell_type": "code",
      "source": [
        "a"
      ],
      "metadata": {
        "colab": {
          "base_uri": "https://localhost:8080/"
        },
        "id": "FUk7KGhoKk7e",
        "outputId": "cb8878b5-6206-4c04-8626-b627a011cbd1"
      },
      "execution_count": 15,
      "outputs": [
        {
          "output_type": "execute_result",
          "data": {
            "text/plain": [
              "1"
            ]
          },
          "metadata": {},
          "execution_count": 15
        }
      ]
    },
    {
      "cell_type": "code",
      "source": [
        "b"
      ],
      "metadata": {
        "colab": {
          "base_uri": "https://localhost:8080/"
        },
        "id": "EMJ-aEEWKmy7",
        "outputId": "2c2fabb7-77c8-48ad-aa81-f7ae0afe823d"
      },
      "execution_count": 16,
      "outputs": [
        {
          "output_type": "execute_result",
          "data": {
            "text/plain": [
              "2"
            ]
          },
          "metadata": {},
          "execution_count": 16
        }
      ]
    },
    {
      "cell_type": "code",
      "source": [
        "class sneha1:\n",
        "  def __init__(self, contact_info, email_id):\n",
        "    self.contact_info = contact_info\n",
        "    self.email_id = email_id\n",
        "\n",
        "  def return_my_details(self):\n",
        "     return self.contact_info, self.email_id"
      ],
      "metadata": {
        "id": "4UBYFiWbKwuO"
      },
      "execution_count": 17,
      "outputs": []
    },
    {
      "cell_type": "code",
      "source": [
        "recruiter = sneha1(12345678910, \"recruiter@gmail.com\")"
      ],
      "metadata": {
        "id": "_lrYGi_JLsl2"
      },
      "execution_count": 39,
      "outputs": []
    },
    {
      "cell_type": "code",
      "source": [
        "recruiter.contact_info"
      ],
      "metadata": {
        "colab": {
          "base_uri": "https://localhost:8080/"
        },
        "id": "KS9gDAdPON5_",
        "outputId": "c88cf887-ba98-4b9f-83e7-b6674472b356"
      },
      "execution_count": 40,
      "outputs": [
        {
          "output_type": "execute_result",
          "data": {
            "text/plain": [
              "12345678910"
            ]
          },
          "metadata": {},
          "execution_count": 40
        }
      ]
    },
    {
      "cell_type": "code",
      "source": [
        "recruiter.return_my_details()"
      ],
      "metadata": {
        "colab": {
          "base_uri": "https://localhost:8080/"
        },
        "id": "A5XobKz-OhZ0",
        "outputId": "265acb6a-5a35-44a9-a804-9318d6bc47c4"
      },
      "execution_count": 41,
      "outputs": [
        {
          "output_type": "execute_result",
          "data": {
            "text/plain": [
              "(12345678910, 'recruiter@gmail.com')"
            ]
          },
          "metadata": {},
          "execution_count": 41
        }
      ]
    },
    {
      "cell_type": "code",
      "source": [
        "class sneha2:\n",
        "  def __init__(sneha, contact_info, email_id):   #self is just used as a\n",
        "    sneha.contact_info = contact_info            #reference pointer\n",
        "    sneha.email_id = email_id\n",
        "\n",
        "  def return_my_details(sneha):\n",
        "     return sneha.contact_info, sneha.email_id"
      ],
      "metadata": {
        "id": "BP4A69AwO5Cr"
      },
      "execution_count": 35,
      "outputs": []
    },
    {
      "cell_type": "code",
      "source": [
        "abc = sneha2(1234567891, \"abc@gmail.com\")"
      ],
      "metadata": {
        "id": "OJaN428ePHWX"
      },
      "execution_count": 36,
      "outputs": []
    },
    {
      "cell_type": "code",
      "source": [
        "abc.contact_info"
      ],
      "metadata": {
        "colab": {
          "base_uri": "https://localhost:8080/"
        },
        "id": "J50AD5BnPSfJ",
        "outputId": "5a6b271b-e31d-47a4-a9d2-12585d2c76aa"
      },
      "execution_count": 38,
      "outputs": [
        {
          "output_type": "execute_result",
          "data": {
            "text/plain": [
              "1234567891"
            ]
          },
          "metadata": {},
          "execution_count": 38
        }
      ]
    },
    {
      "cell_type": "code",
      "source": [
        "abc.return_my_details()"
      ],
      "metadata": {
        "colab": {
          "base_uri": "https://localhost:8080/"
        },
        "id": "S-QU9KrQP25-",
        "outputId": "dc457fa3-14fe-41d6-b3cf-10179d54fe6e"
      },
      "execution_count": 43,
      "outputs": [
        {
          "output_type": "execute_result",
          "data": {
            "text/plain": [
              "(1234567891, 'abc@gmail.com')"
            ]
          },
          "metadata": {},
          "execution_count": 43
        }
      ]
    },
    {
      "cell_type": "code",
      "source": [
        "class sneha3:\n",
        "  def __init__(sneha, contact_info, email_id):\n",
        "    sneha.contact_info = contact_info\n",
        "    sneha.email_id = email_id\n",
        "\n",
        "  def return_my_details(sneha):\n",
        "     return sneha.contact_info, sneha.email_id"
      ],
      "metadata": {
        "id": "kBewbpF7QKu6"
      },
      "execution_count": 62,
      "outputs": []
    },
    {
      "cell_type": "code",
      "source": [
        "sri = sneha3(345678921, \"sri@gmail.com\")"
      ],
      "metadata": {
        "id": "i2fFCp3pQVh4"
      },
      "execution_count": 63,
      "outputs": []
    },
    {
      "cell_type": "code",
      "source": [
        "sri.contact_info"
      ],
      "metadata": {
        "colab": {
          "base_uri": "https://localhost:8080/"
        },
        "id": "WSqs1AaGQmtu",
        "outputId": "400dac75-8261-40c7-85e8-9fd1d54c9b1d"
      },
      "execution_count": 64,
      "outputs": [
        {
          "output_type": "execute_result",
          "data": {
            "text/plain": [
              "345678921"
            ]
          },
          "metadata": {},
          "execution_count": 64
        }
      ]
    },
    {
      "cell_type": "code",
      "source": [
        "sri.return_my_details()"
      ],
      "metadata": {
        "colab": {
          "base_uri": "https://localhost:8080/"
        },
        "id": "_b35bQRHRm1P",
        "outputId": "3d444050-7e38-4bc8-a662-bff0aab8ace1"
      },
      "execution_count": 65,
      "outputs": [
        {
          "output_type": "execute_result",
          "data": {
            "text/plain": [
              "(345678921, 'sri@gmail.com')"
            ]
          },
          "metadata": {},
          "execution_count": 65
        }
      ]
    }
  ]
}